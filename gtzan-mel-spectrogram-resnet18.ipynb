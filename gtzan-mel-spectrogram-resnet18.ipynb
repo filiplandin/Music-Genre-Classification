{
 "cells": [
  {
   "cell_type": "markdown",
   "metadata": {},
   "source": [
    "In this notebook, I try to classify the audio files in the famous GTZAN dataset\n",
    "\n",
    "I have seen that many people are converting the given 30 sec audio files into 3 second files to increase the data. However, I don't agree with this approach. This is because while splitting the data into training, test and validation sets, the datapoints from the same song would be present in all these sets. This would obviously result in a high accuracy due to the skewed nature of the data.\n",
    "\n",
    "I have therefore used the original files for classification and not split the data.\n",
    "\n",
    "<b>Approach:</b>\n",
    "\n",
    "I first convert the audio files into Mel Spectrograms. Then, I downloaded these Mel Spectrograms as images locally for further use.\n",
    "\n",
    "These Mel Spectrograms can be now used as the new dataset to classify the genres. Since it is a image classification task, I use a pretrained ResNet18 model for this task."
   ]
  },
  {
   "cell_type": "markdown",
   "metadata": {},
   "source": [
    "## Importing Libraries"
   ]
  },
  {
   "cell_type": "code",
   "execution_count": 1,
   "metadata": {
    "_cell_guid": "b1076dfc-b9ad-4769-8c92-a6c4dae69d19",
    "_uuid": "8f2839f25d086af736a60e9eeb907d3b93b6e0e5",
    "execution": {
     "iopub.execute_input": "2022-11-19T08:33:47.267879Z",
     "iopub.status.busy": "2022-11-19T08:33:47.267443Z",
     "iopub.status.idle": "2022-11-19T08:33:51.248403Z",
     "shell.execute_reply": "2022-11-19T08:33:51.247154Z",
     "shell.execute_reply.started": "2022-11-19T08:33:47.267794Z"
    },
    "trusted": true
   },
   "outputs": [],
   "source": [
    "import pandas as pd\n",
    "import numpy as np\n",
    "import matplotlib.pyplot as plt\n",
    "import seaborn as sns\n",
    "\n",
    "import glob\n",
    "import os\n",
    "from time import time # to import time() as a function, rather than just the time module\n",
    "from tqdm import tqdm\n",
    "\n",
    "import librosa\n",
    "import librosa.display\n",
    "\n",
    "import torch\n",
    "from torch import nn\n",
    "from torchvision import datasets, transforms, models\n",
    "from torch.utils.data import DataLoader, random_split"
   ]
  },
  {
   "cell_type": "markdown",
   "metadata": {},
   "source": [
    "## Defining Parameters"
   ]
  },
  {
   "cell_type": "code",
   "execution_count": 2,
   "metadata": {
    "execution": {
     "iopub.execute_input": "2022-11-19T08:33:51.251297Z",
     "iopub.status.busy": "2022-11-19T08:33:51.250613Z",
     "iopub.status.idle": "2022-11-19T08:33:51.371742Z",
     "shell.execute_reply": "2022-11-19T08:33:51.370766Z",
     "shell.execute_reply.started": "2022-11-19T08:33:51.251253Z"
    },
    "trusted": true
   },
   "outputs": [],
   "source": [
    "seed = 42\n",
    "np.random.seed(seed)\n",
    "\n",
    "path = \"../input/gtzan-dataset-music-genre-classification/\"\n",
    "\n",
    "wav_audio_dataset_path = path + \"Data/genres_original/\"\n",
    "\n",
    "spectrogram_images_path = \"./mel_spectrogram_imgs/\"\n",
    "\n",
    "learning_rate = 5e-3\n",
    "batch_size = 128 # OBS ignored\n",
    "hop_length = 512\n",
    "n_fft = 2048\n",
    "\n",
    "genre_dict = {\"blues\":0,\"classical\":1,\"country\":2,\"disco\":3,\"hiphop\":4,\"jazz\":5,\"metal\":6,\"pop\":7,\"reggae\":8,\"rock\":9}"
   ]
  },
  {
   "cell_type": "code",
   "execution_count": 3,
   "metadata": {},
   "outputs": [
    {
     "name": "stdout",
     "output_type": "stream",
     "text": [
      "Device:  mps\n"
     ]
    }
   ],
   "source": [
    "device = 'cuda' if torch.cuda.is_available() else 'mps' if torch.mps.is_available() else 'cpu'\n",
    "\n",
    "# device = 'cpu'\n",
    "# if torch.cuda.is_available():\n",
    "#     device = torch.device(\"cuda\")\n",
    "# elif torch.mps.is_available():\n",
    "#     device = torch.device(\"mps\")  # Metal on macOS\n",
    "\n",
    "print(\"Device: \", device)"
   ]
  },
  {
   "cell_type": "markdown",
   "metadata": {},
   "source": [
    "## Transforming Audio Files into Mel Spectograms and Saving the Images"
   ]
  },
  {
   "cell_type": "code",
   "execution_count": 4,
   "metadata": {
    "execution": {
     "iopub.execute_input": "2022-11-19T08:33:51.374233Z",
     "iopub.status.busy": "2022-11-19T08:33:51.373886Z",
     "iopub.status.idle": "2022-11-19T08:38:22.197650Z",
     "shell.execute_reply": "2022-11-19T08:38:22.196607Z",
     "shell.execute_reply.started": "2022-11-19T08:33:51.374205Z"
    },
    "trusted": true
   },
   "outputs": [],
   "source": [
    "if not os.path.exists(spectrogram_images_path):\n",
    "    print(\"Transforming the Audio Files into Mel Spectrograms:\")\n",
    "\n",
    "    mel_spectogram_data = {}\n",
    "    for genre in genre_dict.keys():\n",
    "        print(\"\\t\",genre)\n",
    "        \n",
    "        mel_spectogram_data[genre] = []\n",
    "\n",
    "        for name in glob.glob(wav_audio_dataset_path + genre + \"/*\"):\n",
    "            \n",
    "            if(name != \"../input/gtzan-dataset-music-genre-classification/Data/genres_original/jazz/jazz.00054.wav\"):\n",
    "            \n",
    "                data,sampling_rate = librosa.load(name)\n",
    "\n",
    "                mel_spec = librosa.feature.melspectrogram(y = data.ravel(), sr=sampling_rate,hop_length = hop_length)\n",
    "                mel_spec_db = librosa.amplitude_to_db(mel_spec, ref=np.max)\n",
    "\n",
    "                mel_spectogram_data[genre].append(mel_spec_db)\n",
    "                \n",
    "\n",
    "    print(\"Saving the Mel Spectrogram Images:\")\n",
    "    os.mkdir(spectrogram_images_path)\n",
    "    for genre in genre_dict.keys():\n",
    "        print(\"\\t\",genre)\n",
    "        try:\n",
    "            os.mkdir(spectrogram_images_path + genre)\n",
    "        except:\n",
    "            pass\n",
    "        \n",
    "        for i in range(len(mel_spectogram_data[genre])):\n",
    "\n",
    "            fig, ax = plt.subplots(1, figsize=(12,8))\n",
    "\n",
    "            img = librosa.display.specshow(mel_spectogram_data[genre][i], sr = sampling_rate, hop_length = hop_length,cmap = 'cool',ax=ax)\n",
    "\n",
    "            fig.savefig(spectrogram_images_path + genre + \"/\" + genre + \"_\" + str(i) + \".png\")\n",
    "            \n",
    "            plt.close()"
   ]
  },
  {
   "cell_type": "code",
   "execution_count": 5,
   "metadata": {
    "execution": {
     "iopub.execute_input": "2022-11-19T08:38:22.200942Z",
     "iopub.status.busy": "2022-11-19T08:38:22.200274Z",
     "iopub.status.idle": "2022-11-19T08:38:24.238217Z",
     "shell.execute_reply": "2022-11-19T08:38:24.237069Z",
     "shell.execute_reply.started": "2022-11-19T08:38:22.200899Z"
    },
    "trusted": true
   },
   "outputs": [
    {
     "data": {
      "text/plain": [
       "0"
      ]
     },
     "execution_count": 5,
     "metadata": {},
     "output_type": "execute_result"
    }
   ],
   "source": [
    "import gc\n",
    "gc.collect() # to free up memory"
   ]
  },
  {
   "cell_type": "markdown",
   "metadata": {},
   "source": [
    "## Load and Transform the Data"
   ]
  },
  {
   "cell_type": "markdown",
   "metadata": {},
   "source": [
    "### Get dataset statistics"
   ]
  },
  {
   "cell_type": "code",
   "execution_count": 6,
   "metadata": {},
   "outputs": [],
   "source": [
    "# import torch\n",
    "# from torchvision import datasets, transforms\n",
    "# from torch.utils.data import DataLoader\n",
    "\n",
    "# # Temporary transform to load data as tensors\n",
    "# temp_transform = transforms.Compose([transforms.ToTensor()])\n",
    "# temp_dataset = datasets.ImageFolder(spectrogram_images_path, transform=temp_transform)\n",
    "# temp_loader = DataLoader(temp_dataset, batch_size=32, shuffle=False)\n",
    "\n",
    "# # Calculate mean and std\n",
    "# mean = 0.0\n",
    "# std = 0.0\n",
    "# total_images = 0\n",
    "\n",
    "# for images, _ in temp_loader:\n",
    "#     batch_samples = images.size(0)  # Batch size (number of images)\n",
    "#     images = images.view(batch_samples, images.size(1), -1)  # Flatten H and W\n",
    "#     mean += images.mean(2).sum(0)\n",
    "#     std += images.std(2).sum(0)\n",
    "#     total_images += batch_samples\n",
    "\n",
    "# mean /= total_images\n",
    "# std /= total_images\n",
    "\n",
    "# print(f\"Calculated mean: {mean}, Calculated std: {std}\")"
   ]
  },
  {
   "cell_type": "markdown",
   "metadata": {},
   "source": [
    "### dataset statistics"
   ]
  },
  {
   "cell_type": "code",
   "execution_count": 7,
   "metadata": {},
   "outputs": [],
   "source": [
    "# mean.shape, std.shape\n",
    "\n",
    "# Calculated mean: tensor([0.4716, 0.9263, 0.9964]), tensor([0.4526, 0.1533, 0.0568])\n",
    "# default values: mean=[0.4931, 0.9151, 0.9960], std=[0.4495, 0.1716, 0.0602]\n",
    "# default function: tensor([-0.0471,  0.0633,  0.0071]) tensor([1.0106, 0.9319, 0.9437]) # before\n",
    "# default function: tensor([-0.0545,  0.0830,  0.0078]) tensor([0.9974, 0.7766, 0.4186]) # after new normalization"
   ]
  },
  {
   "cell_type": "markdown",
   "metadata": {},
   "source": [
    "### Create DataLoaders"
   ]
  },
  {
   "cell_type": "code",
   "execution_count": 8,
   "metadata": {},
   "outputs": [
    {
     "name": "stdout",
     "output_type": "stream",
     "text": [
      "Size of Dataset:  999\n",
      "Train size: 699, Val size: 149, Test size: 151\n",
      "Train batch size: 350, Val batch size: 149, Test batch size: 151\n"
     ]
    }
   ],
   "source": [
    "torch.manual_seed(seed)\n",
    "\n",
    "mean, std = torch.tensor([0.4716, 0.9263, 0.9964]), torch.tensor([0.4526, 0.1533, 0.0568])\n",
    "\n",
    "# Define Transforms\n",
    "train_transforms = transforms.Compose([\n",
    "    transforms.Resize((224, 224)),  # Resizing images for ResNet\n",
    "    # transforms.Resize(224), \n",
    "    transforms.ToTensor(),\n",
    "    # transforms.Normalize(mean=[0.4931, 0.9151, 0.9960], std=[0.4495, 0.1716, 0.0602])  # Normalization\n",
    "    transforms.Normalize(mean=mean, std=std)  # Normalization\n",
    "\n",
    "])\n",
    "\n",
    "test_transforms = transforms.Compose([\n",
    "    transforms.Resize((224, 224)),  # Resizing images for ResNet\n",
    "    transforms.ToTensor(),\n",
    "    # transforms.Normalize(mean=[0.4931, 0.9151, 0.9960], std=[0.4495, 0.1716, 0.0602])  # Normalization\n",
    "    transforms.Normalize(mean=mean, std=std)  # Normalization\n",
    "])\n",
    "\n",
    "# Load dataset using ImageFolder\n",
    "dataset = datasets.ImageFolder(spectrogram_images_path)\n",
    "print(\"Size of Dataset: \", len(dataset)) # 1000\n",
    "\n",
    "# Split the data into Train and Validation\n",
    "train_split = 0.7\n",
    "val_split = 0.15\n",
    "\n",
    "train_size = int(train_split * len(dataset))  # 70% for training\n",
    "val_size = int(val_split * len(dataset))   # 15% for validation\n",
    "test_size = len(dataset) - train_size - val_size  # Remaining for testing\n",
    "\n",
    "# Stratified split (manual implementation using indices)\n",
    "train_dataset, val_dataset, test_dataset = random_split(dataset, [train_size, val_size, test_size])\n",
    "\n",
    "# Applying transforms to datasets\n",
    "train_dataset.dataset.transform = train_transforms\n",
    "val_dataset.dataset.transform = test_transforms\n",
    "test_dataset.dataset.transform = test_transforms\n",
    "\n",
    "# Create data loaders\n",
    "\n",
    "# optimized batch sizes\n",
    "train_bs = (train_size+1) // 2  # 50% of training data\n",
    "# train_bs = (train_size+3) // 4 # 25% of training data\n",
    "val_bs = len(val_dataset)\n",
    "test_bs = len(test_dataset)\n",
    "\n",
    "train_dataloader = DataLoader(train_dataset, batch_size=train_bs, shuffle=True)\n",
    "val_dataloader = DataLoader(val_dataset, batch_size=val_bs, shuffle=False)\n",
    "test_dataloader = DataLoader(test_dataset, batch_size=test_bs, shuffle=False)\n",
    "\n",
    "# Checking dataset split sizes\n",
    "print(f\"Train size: {len(train_dataset)}, Val size: {len(val_dataset)}, Test size: {len(test_dataset)}\")\n",
    "print(f\"Train batch size: {train_bs}, Val batch size: {val_bs}, Test batch size: {test_bs}\")\n"
   ]
  },
  {
   "cell_type": "markdown",
   "metadata": {},
   "source": [
    "### old [bad] mean & std function"
   ]
  },
  {
   "cell_type": "code",
   "execution_count": 9,
   "metadata": {
    "execution": {
     "iopub.execute_input": "2022-11-19T08:38:24.285537Z",
     "iopub.status.busy": "2022-11-19T08:38:24.285118Z",
     "iopub.status.idle": "2022-11-19T08:38:25.332422Z",
     "shell.execute_reply": "2022-11-19T08:38:25.331125Z",
     "shell.execute_reply.started": "2022-11-19T08:38:24.285501Z"
    },
    "trusted": true
   },
   "outputs": [],
   "source": [
    "def mean_std(loader):\n",
    "    images, lebels = next(iter(loader))\n",
    "    # shape of images = [b,c,w,h]\n",
    "    mean, std = images.mean([0,2,3]), images.std([0,2,3])\n",
    "    return mean, std\n",
    "\n",
    "# mean, std = mean_std(train_dataloader)\n",
    "# print(\"mean and std: \\n\", mean, std)"
   ]
  },
  {
   "cell_type": "markdown",
   "metadata": {},
   "source": [
    "## ResNet18 - Transfer Learning\n",
    "- Load a Pretrained Model"
   ]
  },
  {
   "cell_type": "code",
   "execution_count": 10,
   "metadata": {},
   "outputs": [],
   "source": [
    "from torchvision.models import ResNet18_Weights\n",
    "resnet = models.resnet18(weights=ResNet18_Weights.DEFAULT)\n",
    "# print(resnet)"
   ]
  },
  {
   "cell_type": "markdown",
   "metadata": {},
   "source": [
    "### freeze params, fc-layer, Optimizer"
   ]
  },
  {
   "cell_type": "code",
   "execution_count": 11,
   "metadata": {
    "execution": {
     "iopub.execute_input": "2022-11-19T08:38:25.334802Z",
     "iopub.status.busy": "2022-11-19T08:38:25.334406Z",
     "iopub.status.idle": "2022-11-19T08:38:28.076103Z",
     "shell.execute_reply": "2022-11-19T08:38:28.075099Z",
     "shell.execute_reply.started": "2022-11-19T08:38:25.334763Z"
    },
    "trusted": true
   },
   "outputs": [
    {
     "name": "stdout",
     "output_type": "stream",
     "text": [
      "Classes:  ['blues', 'classical', 'country', 'disco', 'hiphop', 'jazz', 'metal', 'pop', 'reggae', 'rock']\n",
      "Number of Input Features in the Last Fully Connected Layer:  512\n"
     ]
    }
   ],
   "source": [
    "# Classes\n",
    "classes = train_dataloader.dataset.dataset.classes\n",
    "print(\"Classes: \", classes)\n",
    "\n",
    "# Fix the trainable parameters\n",
    "for parameter in resnet.parameters():\n",
    "    parameter.requires_grad = False\n",
    "    \n",
    "    \n",
    "# Number of Input Features in the Last Fully Connected Layer\n",
    "in_features = resnet.fc.in_features\n",
    "print(\"Number of Input Features in the Last Fully Connected Layer: \", in_features)\n",
    "\n",
    "# Replacing the Last Fully Connected Layer\n",
    "fc = nn.Linear(in_features=in_features, out_features=len(classes))\n",
    "resnet.fc = fc\n",
    "\n",
    "\n",
    "# Updating the Weights and Bias of the last layer\n",
    "params_to_update = []\n",
    "for name, param in resnet.named_parameters():\n",
    "    if param.requires_grad == True:\n",
    "        params_to_update.append(param)\n",
    "\n",
    "# Define the Loss and Optimizer Functions\n",
    "criterion = nn.CrossEntropyLoss()\n",
    "optimizer = torch.optim.Adam(params_to_update, lr=learning_rate) # default lr = 0.001"
   ]
  },
  {
   "cell_type": "markdown",
   "metadata": {},
   "source": [
    "## Training the Model"
   ]
  },
  {
   "cell_type": "code",
   "execution_count": 12,
   "metadata": {
    "execution": {
     "iopub.execute_input": "2022-11-19T08:38:28.078017Z",
     "iopub.status.busy": "2022-11-19T08:38:28.077654Z",
     "iopub.status.idle": "2022-11-19T08:38:28.091461Z",
     "shell.execute_reply": "2022-11-19T08:38:28.090340Z",
     "shell.execute_reply.started": "2022-11-19T08:38:28.077981Z"
    },
    "trusted": true
   },
   "outputs": [],
   "source": [
    "def train(model, criterion, optimizer, train_dataloader, val_dataloader, num_epoch, patience=5):\n",
    "    train_losses, val_losses = [], []\n",
    "    best_val_loss = float('inf')\n",
    "    no_improve_epochs = 0\n",
    "    \n",
    "    model.to(device)\n",
    "    for epoch in tqdm(range(num_epoch)):\n",
    "        start_time = time()\n",
    "\n",
    "        running_loss, val_loss = 0, 0\n",
    "        correct_train, total_train = 0, 0\n",
    "        correct_val, total_val = 0, 0\n",
    "\n",
    "        # Training the model\n",
    "        model.train()\n",
    "        for images, labels in train_dataloader:\n",
    "            images, labels = images.to(device), labels.to(device)\n",
    "            optimizer.zero_grad() # clear gradients for next train\n",
    "            # Forward pass\n",
    "            output = model(images)\n",
    "            loss = criterion(output, labels)\n",
    "            # Backward and optimize\n",
    "            loss.backward()\n",
    "            optimizer.step()\n",
    "\n",
    "            # Logging Training Loss and Accuracy\n",
    "            running_loss += loss.item()\n",
    "            correct_train += (output.argmax(1) == labels).sum().item()\n",
    "            total_train += labels.size(0) # accumulated number of imagess from all batches in the epoch\n",
    "            \n",
    "        # Validating the model\n",
    "        model.eval()\n",
    "        with torch.no_grad():\n",
    "            for images, labels in val_dataloader:\n",
    "                images, labels = images.to(device), labels.to(device)\n",
    "                output = model(images)\n",
    "                val_loss += criterion(output, labels).item()\n",
    "                correct_val += (output.argmax(1) == labels).sum().item()\n",
    "                total_val += labels.size(0)\n",
    "        \n",
    "        train_losses.append(running_loss / len(train_dataloader)) # average loss per batch (i.e. per 50% of training data)\n",
    "        val_losses.append(val_loss / len(val_dataloader)) # average val loss per batch (i.e. per 100% of validation data)\n",
    "\n",
    "        print(f\"Train Loss: {train_losses[-1]:.3f}, Val Loss: {val_losses[-1]:.3f}, \"\n",
    "              f\"Train Acc: {correct_train / total_train * 100:.2f}%, Val Acc: {correct_val / total_val * 100:.2f}%\")\n",
    "\n",
    "        if val_losses[-1] < best_val_loss:\n",
    "            best_val_loss = val_losses[-1]\n",
    "            no_improve_epochs = 0\n",
    "            torch.save(model.state_dict(), \"best_model.pth\")\n",
    "            if correct_val / total_val > 0.70:\n",
    "                torch.save(model.state_dict(), f'checkpoint_{correct_val / total_val * 100:.2f}', _use_new_zipfile_serialization=True)\n",
    "        else:\n",
    "            no_improve_epochs += 1\n",
    "\n",
    "        if no_improve_epochs >= patience:\n",
    "            print(\"Early stopping triggered.\")\n",
    "            break\n",
    "\n",
    "    return model, train_losses, val_losses"
   ]
  },
  {
   "cell_type": "code",
   "execution_count": 13,
   "metadata": {
    "execution": {
     "iopub.execute_input": "2022-11-19T08:38:28.095013Z",
     "iopub.status.busy": "2022-11-19T08:38:28.093245Z",
     "iopub.status.idle": "2022-11-19T09:38:05.308334Z",
     "shell.execute_reply": "2022-11-19T09:38:05.302884Z",
     "shell.execute_reply.started": "2022-11-19T08:38:28.094984Z"
    },
    "trusted": true
   },
   "outputs": [
    {
     "name": "stderr",
     "output_type": "stream",
     "text": [
      "  2%|▏         | 1/50 [00:08<07:17,  8.92s/it]"
     ]
    },
    {
     "name": "stdout",
     "output_type": "stream",
     "text": [
      "Train Loss: 2.622, Val Loss: 2.464, Train Acc: 10.73%, Val Acc: 16.11%\n"
     ]
    },
    {
     "name": "stderr",
     "output_type": "stream",
     "text": [
      "  4%|▍         | 2/50 [00:17<07:07,  8.90s/it]"
     ]
    },
    {
     "name": "stdout",
     "output_type": "stream",
     "text": [
      "Train Loss: 2.379, Val Loss: 2.242, Train Acc: 19.60%, Val Acc: 10.07%\n"
     ]
    },
    {
     "name": "stderr",
     "output_type": "stream",
     "text": [
      "  6%|▌         | 3/50 [00:26<06:57,  8.89s/it]"
     ]
    },
    {
     "name": "stdout",
     "output_type": "stream",
     "text": [
      "Train Loss: 2.024, Val Loss: 2.373, Train Acc: 29.04%, Val Acc: 12.08%\n"
     ]
    },
    {
     "name": "stderr",
     "output_type": "stream",
     "text": [
      "  8%|▊         | 4/50 [00:35<06:46,  8.83s/it]"
     ]
    },
    {
     "name": "stdout",
     "output_type": "stream",
     "text": [
      "Train Loss: 1.864, Val Loss: 2.109, Train Acc: 35.34%, Val Acc: 24.83%\n"
     ]
    },
    {
     "name": "stderr",
     "output_type": "stream",
     "text": [
      " 10%|█         | 5/50 [00:44<06:34,  8.77s/it]"
     ]
    },
    {
     "name": "stdout",
     "output_type": "stream",
     "text": [
      "Train Loss: 1.650, Val Loss: 1.932, Train Acc: 44.35%, Val Acc: 28.19%\n"
     ]
    },
    {
     "name": "stderr",
     "output_type": "stream",
     "text": [
      " 12%|█▏        | 6/50 [00:52<06:22,  8.70s/it]"
     ]
    },
    {
     "name": "stdout",
     "output_type": "stream",
     "text": [
      "Train Loss: 1.570, Val Loss: 1.868, Train Acc: 46.21%, Val Acc: 34.90%\n"
     ]
    },
    {
     "name": "stderr",
     "output_type": "stream",
     "text": [
      " 14%|█▍        | 7/50 [01:01<06:14,  8.70s/it]"
     ]
    },
    {
     "name": "stdout",
     "output_type": "stream",
     "text": [
      "Train Loss: 1.419, Val Loss: 1.866, Train Acc: 56.37%, Val Acc: 34.23%\n"
     ]
    },
    {
     "name": "stderr",
     "output_type": "stream",
     "text": [
      " 16%|█▌        | 8/50 [01:10<06:05,  8.69s/it]"
     ]
    },
    {
     "name": "stdout",
     "output_type": "stream",
     "text": [
      "Train Loss: 1.362, Val Loss: 1.711, Train Acc: 58.08%, Val Acc: 40.94%\n"
     ]
    },
    {
     "name": "stderr",
     "output_type": "stream",
     "text": [
      " 18%|█▊        | 9/50 [01:18<05:56,  8.70s/it]"
     ]
    },
    {
     "name": "stdout",
     "output_type": "stream",
     "text": [
      "Train Loss: 1.270, Val Loss: 1.544, Train Acc: 61.09%, Val Acc: 46.31%\n"
     ]
    },
    {
     "name": "stderr",
     "output_type": "stream",
     "text": [
      " 20%|██        | 10/50 [01:27<05:46,  8.66s/it]"
     ]
    },
    {
     "name": "stdout",
     "output_type": "stream",
     "text": [
      "Train Loss: 1.218, Val Loss: 1.433, Train Acc: 61.80%, Val Acc: 55.70%\n"
     ]
    },
    {
     "name": "stderr",
     "output_type": "stream",
     "text": [
      " 22%|██▏       | 11/50 [01:36<05:38,  8.67s/it]"
     ]
    },
    {
     "name": "stdout",
     "output_type": "stream",
     "text": [
      "Train Loss: 1.147, Val Loss: 1.408, Train Acc: 64.23%, Val Acc: 54.36%\n"
     ]
    },
    {
     "name": "stderr",
     "output_type": "stream",
     "text": [
      " 24%|██▍       | 12/50 [01:44<05:28,  8.65s/it]"
     ]
    },
    {
     "name": "stdout",
     "output_type": "stream",
     "text": [
      "Train Loss: 1.102, Val Loss: 1.431, Train Acc: 67.10%, Val Acc: 53.02%\n"
     ]
    },
    {
     "name": "stderr",
     "output_type": "stream",
     "text": [
      " 26%|██▌       | 13/50 [01:53<05:20,  8.67s/it]"
     ]
    },
    {
     "name": "stdout",
     "output_type": "stream",
     "text": [
      "Train Loss: 1.066, Val Loss: 1.321, Train Acc: 69.24%, Val Acc: 53.69%\n"
     ]
    },
    {
     "name": "stderr",
     "output_type": "stream",
     "text": [
      " 28%|██▊       | 14/50 [02:02<05:12,  8.67s/it]"
     ]
    },
    {
     "name": "stdout",
     "output_type": "stream",
     "text": [
      "Train Loss: 1.004, Val Loss: 1.246, Train Acc: 70.53%, Val Acc: 59.06%\n"
     ]
    },
    {
     "name": "stderr",
     "output_type": "stream",
     "text": [
      " 30%|███       | 15/50 [02:10<05:03,  8.67s/it]"
     ]
    },
    {
     "name": "stdout",
     "output_type": "stream",
     "text": [
      "Train Loss: 0.969, Val Loss: 1.255, Train Acc: 69.38%, Val Acc: 59.73%\n"
     ]
    },
    {
     "name": "stderr",
     "output_type": "stream",
     "text": [
      " 32%|███▏      | 16/50 [02:19<04:55,  8.70s/it]"
     ]
    },
    {
     "name": "stdout",
     "output_type": "stream",
     "text": [
      "Train Loss: 0.936, Val Loss: 1.251, Train Acc: 71.67%, Val Acc: 57.05%\n"
     ]
    },
    {
     "name": "stderr",
     "output_type": "stream",
     "text": [
      " 34%|███▍      | 17/50 [02:28<04:48,  8.75s/it]"
     ]
    },
    {
     "name": "stdout",
     "output_type": "stream",
     "text": [
      "Train Loss: 0.903, Val Loss: 1.213, Train Acc: 73.68%, Val Acc: 60.40%\n"
     ]
    },
    {
     "name": "stderr",
     "output_type": "stream",
     "text": [
      " 36%|███▌      | 18/50 [02:37<04:39,  8.74s/it]"
     ]
    },
    {
     "name": "stdout",
     "output_type": "stream",
     "text": [
      "Train Loss: 0.874, Val Loss: 1.177, Train Acc: 74.54%, Val Acc: 61.74%\n"
     ]
    },
    {
     "name": "stderr",
     "output_type": "stream",
     "text": [
      " 38%|███▊      | 19/50 [02:45<04:31,  8.74s/it]"
     ]
    },
    {
     "name": "stdout",
     "output_type": "stream",
     "text": [
      "Train Loss: 0.848, Val Loss: 1.182, Train Acc: 75.39%, Val Acc: 59.06%\n"
     ]
    },
    {
     "name": "stderr",
     "output_type": "stream",
     "text": [
      " 40%|████      | 20/50 [02:54<04:22,  8.75s/it]"
     ]
    },
    {
     "name": "stdout",
     "output_type": "stream",
     "text": [
      "Train Loss: 0.828, Val Loss: 1.190, Train Acc: 76.11%, Val Acc: 59.73%\n"
     ]
    },
    {
     "name": "stderr",
     "output_type": "stream",
     "text": [
      " 42%|████▏     | 21/50 [03:03<04:15,  8.82s/it]"
     ]
    },
    {
     "name": "stdout",
     "output_type": "stream",
     "text": [
      "Train Loss: 0.799, Val Loss: 1.171, Train Acc: 77.40%, Val Acc: 59.73%\n"
     ]
    },
    {
     "name": "stderr",
     "output_type": "stream",
     "text": [
      " 44%|████▍     | 22/50 [03:12<04:06,  8.81s/it]"
     ]
    },
    {
     "name": "stdout",
     "output_type": "stream",
     "text": [
      "Train Loss: 0.778, Val Loss: 1.148, Train Acc: 78.25%, Val Acc: 59.73%\n"
     ]
    },
    {
     "name": "stderr",
     "output_type": "stream",
     "text": [
      " 46%|████▌     | 23/50 [03:21<03:57,  8.79s/it]"
     ]
    },
    {
     "name": "stdout",
     "output_type": "stream",
     "text": [
      "Train Loss: 0.757, Val Loss: 1.163, Train Acc: 78.68%, Val Acc: 59.06%\n"
     ]
    },
    {
     "name": "stderr",
     "output_type": "stream",
     "text": [
      " 48%|████▊     | 24/50 [03:29<03:48,  8.77s/it]"
     ]
    },
    {
     "name": "stdout",
     "output_type": "stream",
     "text": [
      "Train Loss: 0.737, Val Loss: 1.155, Train Acc: 79.26%, Val Acc: 57.05%\n"
     ]
    },
    {
     "name": "stderr",
     "output_type": "stream",
     "text": [
      " 50%|█████     | 25/50 [03:38<03:39,  8.79s/it]"
     ]
    },
    {
     "name": "stdout",
     "output_type": "stream",
     "text": [
      "Train Loss: 0.713, Val Loss: 1.127, Train Acc: 81.26%, Val Acc: 63.76%\n"
     ]
    },
    {
     "name": "stderr",
     "output_type": "stream",
     "text": [
      " 52%|█████▏    | 26/50 [03:47<03:30,  8.77s/it]"
     ]
    },
    {
     "name": "stdout",
     "output_type": "stream",
     "text": [
      "Train Loss: 0.699, Val Loss: 1.127, Train Acc: 81.55%, Val Acc: 60.40%\n"
     ]
    },
    {
     "name": "stderr",
     "output_type": "stream",
     "text": [
      " 54%|█████▍    | 27/50 [03:56<03:22,  8.78s/it]"
     ]
    },
    {
     "name": "stdout",
     "output_type": "stream",
     "text": [
      "Train Loss: 0.679, Val Loss: 1.150, Train Acc: 82.55%, Val Acc: 58.39%\n"
     ]
    },
    {
     "name": "stderr",
     "output_type": "stream",
     "text": [
      " 56%|█████▌    | 28/50 [04:04<03:12,  8.77s/it]"
     ]
    },
    {
     "name": "stdout",
     "output_type": "stream",
     "text": [
      "Train Loss: 0.669, Val Loss: 1.134, Train Acc: 82.98%, Val Acc: 58.39%\n"
     ]
    },
    {
     "name": "stderr",
     "output_type": "stream",
     "text": [
      " 58%|█████▊    | 29/50 [04:13<03:04,  8.77s/it]"
     ]
    },
    {
     "name": "stdout",
     "output_type": "stream",
     "text": [
      "Train Loss: 0.643, Val Loss: 1.115, Train Acc: 83.26%, Val Acc: 60.40%\n"
     ]
    },
    {
     "name": "stderr",
     "output_type": "stream",
     "text": [
      " 60%|██████    | 30/50 [04:22<02:55,  8.76s/it]"
     ]
    },
    {
     "name": "stdout",
     "output_type": "stream",
     "text": [
      "Train Loss: 0.633, Val Loss: 1.116, Train Acc: 84.55%, Val Acc: 59.73%\n"
     ]
    },
    {
     "name": "stderr",
     "output_type": "stream",
     "text": [
      " 62%|██████▏   | 31/50 [04:31<02:46,  8.76s/it]"
     ]
    },
    {
     "name": "stdout",
     "output_type": "stream",
     "text": [
      "Train Loss: 0.618, Val Loss: 1.129, Train Acc: 84.69%, Val Acc: 57.72%\n"
     ]
    },
    {
     "name": "stderr",
     "output_type": "stream",
     "text": [
      " 64%|██████▍   | 32/50 [04:39<02:37,  8.77s/it]"
     ]
    },
    {
     "name": "stdout",
     "output_type": "stream",
     "text": [
      "Train Loss: 0.602, Val Loss: 1.113, Train Acc: 85.41%, Val Acc: 60.40%\n"
     ]
    },
    {
     "name": "stderr",
     "output_type": "stream",
     "text": [
      " 66%|██████▌   | 33/50 [04:48<02:29,  8.80s/it]"
     ]
    },
    {
     "name": "stdout",
     "output_type": "stream",
     "text": [
      "Train Loss: 0.587, Val Loss: 1.112, Train Acc: 85.98%, Val Acc: 61.07%\n"
     ]
    },
    {
     "name": "stderr",
     "output_type": "stream",
     "text": [
      " 68%|██████▊   | 34/50 [04:57<02:20,  8.78s/it]"
     ]
    },
    {
     "name": "stdout",
     "output_type": "stream",
     "text": [
      "Train Loss: 0.575, Val Loss: 1.120, Train Acc: 86.55%, Val Acc: 55.70%\n"
     ]
    },
    {
     "name": "stderr",
     "output_type": "stream",
     "text": [
      " 70%|███████   | 35/50 [05:06<02:11,  8.79s/it]"
     ]
    },
    {
     "name": "stdout",
     "output_type": "stream",
     "text": [
      "Train Loss: 0.565, Val Loss: 1.109, Train Acc: 87.27%, Val Acc: 58.39%\n"
     ]
    },
    {
     "name": "stderr",
     "output_type": "stream",
     "text": [
      " 72%|███████▏  | 36/50 [05:15<02:03,  8.81s/it]"
     ]
    },
    {
     "name": "stdout",
     "output_type": "stream",
     "text": [
      "Train Loss: 0.555, Val Loss: 1.108, Train Acc: 87.41%, Val Acc: 59.06%\n"
     ]
    },
    {
     "name": "stderr",
     "output_type": "stream",
     "text": [
      " 74%|███████▍  | 37/50 [05:24<01:54,  8.82s/it]"
     ]
    },
    {
     "name": "stdout",
     "output_type": "stream",
     "text": [
      "Train Loss: 0.540, Val Loss: 1.101, Train Acc: 87.41%, Val Acc: 59.73%\n"
     ]
    },
    {
     "name": "stderr",
     "output_type": "stream",
     "text": [
      " 76%|███████▌  | 38/50 [05:32<01:45,  8.78s/it]"
     ]
    },
    {
     "name": "stdout",
     "output_type": "stream",
     "text": [
      "Train Loss: 0.532, Val Loss: 1.110, Train Acc: 87.98%, Val Acc: 58.39%\n"
     ]
    },
    {
     "name": "stderr",
     "output_type": "stream",
     "text": [
      " 78%|███████▊  | 39/50 [05:41<01:36,  8.76s/it]"
     ]
    },
    {
     "name": "stdout",
     "output_type": "stream",
     "text": [
      "Train Loss: 0.513, Val Loss: 1.126, Train Acc: 89.27%, Val Acc: 57.72%\n"
     ]
    },
    {
     "name": "stderr",
     "output_type": "stream",
     "text": [
      " 80%|████████  | 40/50 [05:50<01:27,  8.78s/it]"
     ]
    },
    {
     "name": "stdout",
     "output_type": "stream",
     "text": [
      "Train Loss: 0.504, Val Loss: 1.105, Train Acc: 89.56%, Val Acc: 58.39%\n"
     ]
    },
    {
     "name": "stderr",
     "output_type": "stream",
     "text": [
      " 82%|████████▏ | 41/50 [05:59<01:19,  8.80s/it]"
     ]
    },
    {
     "name": "stdout",
     "output_type": "stream",
     "text": [
      "Train Loss: 0.494, Val Loss: 1.096, Train Acc: 89.99%, Val Acc: 59.73%\n"
     ]
    },
    {
     "name": "stderr",
     "output_type": "stream",
     "text": [
      " 84%|████████▍ | 42/50 [06:07<01:10,  8.79s/it]"
     ]
    },
    {
     "name": "stdout",
     "output_type": "stream",
     "text": [
      "Train Loss: 0.482, Val Loss: 1.106, Train Acc: 89.84%, Val Acc: 58.39%\n"
     ]
    },
    {
     "name": "stderr",
     "output_type": "stream",
     "text": [
      " 86%|████████▌ | 43/50 [06:16<01:01,  8.76s/it]"
     ]
    },
    {
     "name": "stdout",
     "output_type": "stream",
     "text": [
      "Train Loss: 0.475, Val Loss: 1.107, Train Acc: 90.70%, Val Acc: 59.06%\n"
     ]
    },
    {
     "name": "stderr",
     "output_type": "stream",
     "text": [
      " 88%|████████▊ | 44/50 [06:25<00:52,  8.75s/it]"
     ]
    },
    {
     "name": "stdout",
     "output_type": "stream",
     "text": [
      "Train Loss: 0.468, Val Loss: 1.108, Train Acc: 90.84%, Val Acc: 57.72%\n"
     ]
    },
    {
     "name": "stderr",
     "output_type": "stream",
     "text": [
      " 90%|█████████ | 45/50 [06:34<00:43,  8.74s/it]"
     ]
    },
    {
     "name": "stdout",
     "output_type": "stream",
     "text": [
      "Train Loss: 0.455, Val Loss: 1.096, Train Acc: 91.27%, Val Acc: 60.40%\n"
     ]
    },
    {
     "name": "stderr",
     "output_type": "stream",
     "text": [
      " 92%|█████████▏| 46/50 [06:42<00:35,  8.75s/it]"
     ]
    },
    {
     "name": "stdout",
     "output_type": "stream",
     "text": [
      "Train Loss: 0.447, Val Loss: 1.105, Train Acc: 91.27%, Val Acc: 59.73%\n"
     ]
    },
    {
     "name": "stderr",
     "output_type": "stream",
     "text": [
      " 94%|█████████▍| 47/50 [06:51<00:26,  8.73s/it]"
     ]
    },
    {
     "name": "stdout",
     "output_type": "stream",
     "text": [
      "Train Loss: 0.442, Val Loss: 1.120, Train Acc: 90.84%, Val Acc: 57.72%\n"
     ]
    },
    {
     "name": "stderr",
     "output_type": "stream",
     "text": [
      " 96%|█████████▌| 48/50 [07:00<00:17,  8.76s/it]"
     ]
    },
    {
     "name": "stdout",
     "output_type": "stream",
     "text": [
      "Train Loss: 0.432, Val Loss: 1.102, Train Acc: 92.42%, Val Acc: 58.39%\n"
     ]
    },
    {
     "name": "stderr",
     "output_type": "stream",
     "text": [
      " 98%|█████████▊| 49/50 [07:09<00:08,  8.75s/it]"
     ]
    },
    {
     "name": "stdout",
     "output_type": "stream",
     "text": [
      "Train Loss: 0.423, Val Loss: 1.097, Train Acc: 92.27%, Val Acc: 59.06%\n"
     ]
    },
    {
     "name": "stderr",
     "output_type": "stream",
     "text": [
      " 98%|█████████▊| 49/50 [07:17<00:08,  8.94s/it]"
     ]
    },
    {
     "name": "stdout",
     "output_type": "stream",
     "text": [
      "Train Loss: 0.415, Val Loss: 1.105, Train Acc: 92.27%, Val Acc: 59.06%\n",
      "Early stopping triggered.\n"
     ]
    },
    {
     "name": "stderr",
     "output_type": "stream",
     "text": [
      "\n"
     ]
    },
    {
     "data": {
      "image/png": "[encoded data removed]",
      "text/plain": [
       "<Figure size 640x480 with 1 Axes>"
      ]
     },
     "metadata": {},
     "output_type": "display_data"
    },
    {
     "name": "stdout",
     "output_type": "stream",
     "text": [
      "CPU times: user 6min 12s, sys: 1min 34s, total: 7min 46s\n",
      "Wall time: 7min 17s\n"
     ]
    }
   ],
   "source": [
    "%%time\n",
    "num_epoch = 50 # default 100\n",
    "\n",
    "resnet, train_losses, val_losses = train(\n",
    "    model=resnet,\n",
    "    criterion=criterion,\n",
    "    optimizer=optimizer,\n",
    "    train_dataloader=train_dataloader,\n",
    "    val_dataloader=val_dataloader,\n",
    "    num_epoch=num_epoch,\n",
    "    patience=5\n",
    ")\n",
    "\n",
    "plt.plot(train_losses, label='Training loss')\n",
    "plt.plot(val_losses, label='Validation loss')\n",
    "plt.legend(frameon=False)\n",
    "plt.show()"
   ]
  },
  {
   "cell_type": "markdown",
   "metadata": {},
   "source": [
    "## Testing"
   ]
  },
  {
   "cell_type": "code",
   "execution_count": 14,
   "metadata": {
    "execution": {
     "iopub.execute_input": "2022-11-19T09:38:21.851197Z",
     "iopub.status.busy": "2022-11-19T09:38:21.850805Z",
     "iopub.status.idle": "2022-11-19T09:38:24.988589Z",
     "shell.execute_reply": "2022-11-19T09:38:24.987527Z",
     "shell.execute_reply.started": "2022-11-19T09:38:21.851165Z"
    },
    "trusted": true
   },
   "outputs": [
    {
     "name": "stdout",
     "output_type": "stream",
     "text": [
      "Test accuracy: 62.91%\n",
      "50 epochs, batch size 350: Acc 62.91%\n"
     ]
    }
   ],
   "source": [
    "\n",
    "def evaluate(model, test_dataloader):\n",
    "    model.eval()\n",
    "    correct = 0\n",
    "    total = 0\n",
    "    with torch.no_grad():\n",
    "        for images, labels in test_dataloader:\n",
    "            images = images.to(device)\n",
    "            labels = labels.to(device)\n",
    "            outputs = model(images)\n",
    "            _, predicted = torch.max(outputs, 1)\n",
    "            total += labels.size(0)\n",
    "            correct += (predicted == labels).sum().item()\n",
    "    return correct / total * 100\n",
    "\n",
    "test_accuracy = evaluate(resnet, test_dataloader)\n",
    "print(f'Test accuracy: {test_accuracy:.2f}%')\n",
    "print(f'{num_epoch} epochs, batch size {train_dataloader.batch_size}: Acc {test_accuracy:.4g}%')"
   ]
  },
  {
   "cell_type": "markdown",
   "metadata": {},
   "source": [
    "## Results\n",
    "\n",
    "lr = e-2\n",
    "- 20 epochs, batch size 350: Acc 58.28%\n",
    "- 65/100 epochs, batch size 699: Acc 62.25%\n",
    "- 19/100 epochs, batch size 175: Acc 61.59% 3min\n",
    "\n",
    "Karpathy's learning rate 3e-4\n",
    "- e-4: 100 epochs, batch size 699: Acc 61.59%\n",
    "- 100 epochs, batch size 699: Acc 52.98% (14min 39s) - 3e-4\n",
    "- 49/50 epochs, batch size 350: Acc 62.91% - 5e-3\n",
    "\n",
    "### 8 epochs: val acc\n",
    "\n",
    "128\n",
    "- batch size  32, acc 40.00%, 6min 39s\n",
    "- batch size 128: acc 23.18%, 72.62s\n",
    "- batch size 128: acc 23.18%: 73.8s\n",
    "- batch size 128: acc 49.01%: 92.3s\n",
    "- batch size 128: acc 49.01%: 96.09s\n",
    "\n",
    "256\n",
    "- batch size 256: acc 42.38%: 74.39s\n",
    "- batch size 256: acc 27.15%: 74.66s\n",
    "\n",
    "No normalization:\n",
    "- batch size 128: acc 29.14%: 88.52s\n",
    "-  batch size 128: acc 31.79%: 92.31s (bad norm)\n",
    "\n",
    "Full run (50 epcochs)\n",
    "- deafult Accuracy: 66.6666\n",
    "- 17:46 11/1 val Accuracy 67.67, test acc 69.70%\n",
    "\n",
    "cpu vs mps\n",
    "- 1 epoch cpu: Wall time: 4min 31s CPU times: user 14min 37\n",
    "- 1 epoch mps: Wall time: 16.8 s CPU times: user 11.7 s"
   ]
  },
  {
   "cell_type": "markdown",
   "metadata": {},
   "source": [
    "### Lessons Learned\n",
    "- Always use mps! 10x speedup\n",
    "- this script requires at least 2 batches with print_every = 2 \n",
    "    - batch_size = dataset=1 // 2 was therefore optimal\n",
    "- very small batch sizes e.g. 499+499=1 gives bad optimization and slower"
   ]
  },
  {
   "cell_type": "markdown",
   "metadata": {},
   "source": [
    "### F1 classification_report"
   ]
  },
  {
   "cell_type": "code",
   "execution_count": 15,
   "metadata": {},
   "outputs": [
    {
     "name": "stdout",
     "output_type": "stream",
     "text": [
      "              precision    recall  f1-score   support\n",
      "\n",
      "       blues       0.56      0.56      0.56        16\n",
      "   classical       0.75      0.82      0.78        11\n",
      "     country       0.67      0.53      0.59        19\n",
      "       disco       0.63      0.57      0.60        21\n",
      "      hiphop       0.67      0.77      0.71        13\n",
      "        jazz       0.73      0.67      0.70        12\n",
      "       metal       0.67      0.83      0.74        12\n",
      "         pop       0.80      0.47      0.59        17\n",
      "      reggae       0.79      0.73      0.76        15\n",
      "        rock       0.33      0.53      0.41        15\n",
      "\n",
      "    accuracy                           0.63       151\n",
      "   macro avg       0.66      0.65      0.64       151\n",
      "weighted avg       0.66      0.63      0.63       151\n",
      "\n"
     ]
    }
   ],
   "source": [
    "from sklearn.metrics import classification_report\n",
    "\n",
    "# Collect all true labels and predictions\n",
    "all_labels = []\n",
    "all_predictions = []\n",
    "\n",
    "with torch.no_grad():\n",
    "    for images, labels in test_dataloader:\n",
    "        images, labels = images.to(device), labels.to(device)\n",
    "        outputs = resnet(images)\n",
    "        _, predicted = torch.max(outputs, 1)\n",
    "\n",
    "        all_labels.extend(labels.cpu().numpy())\n",
    "        all_predictions.extend(predicted.cpu().numpy())\n",
    "\n",
    "# Generate classification report\n",
    "print(classification_report(all_labels, all_predictions, target_names=classes))"
   ]
  },
  {
   "cell_type": "markdown",
   "metadata": {},
   "source": [
    "## Loading the model"
   ]
  },
  {
   "cell_type": "markdown",
   "metadata": {},
   "source": [
    "### load model from last checkpoint\n"
   ]
  },
  {
   "cell_type": "code",
   "execution_count": 16,
   "metadata": {},
   "outputs": [],
   "source": [
    "# model = torch.load('checkpoint_72.00')\n",
    "# model.to(device) \n",
    "\n",
    "# latest_checkpoint = \n",
    "# state_dict = torch.load(latest_checkpoint)\n",
    "# resnet.load_state_dict(state_dict)\n",
    "# resnet.to(device)\n",
    "\n",
    "# resnet.eval()\n",
    "# print('evaluating checkpoint:', latest_checkpoint)\n",
    "# test_accuracy = evaluate(resnet, test_dataloader)\n",
    "# print(f'Test accuracy: {test_accuracy:.2f}%')"
   ]
  },
  {
   "cell_type": "markdown",
   "metadata": {},
   "source": [
    "### Loading the fully trained model"
   ]
  },
  {
   "cell_type": "code",
   "execution_count": 17,
   "metadata": {},
   "outputs": [],
   "source": [
    "# model = torch.load('checkpoint_72.00', map_location='mps')\n",
    "# torch.save(model, 'resnet_model2.pth', _use_new_zipfile_serialization=True)\n",
    "\n",
    "# Checkpoint_72.00 is saved with the default serialization method and 'cpu'\n",
    "# loaded_model = torch.load('resnet_model.pth', map_location='cpu', weights_only=True)\n",
    "# test_accuracy = evaluate(loaded_model, test_dataloader)\n",
    "# print(f'Test accuracy: {test_accuracy:.2f}%')"
   ]
  },
  {
   "cell_type": "code",
   "execution_count": 18,
   "metadata": {},
   "outputs": [],
   "source": [
    "# load the model from disk\n",
    "# from torch.nn import Conv2d\n",
    "# from torch.nn import BatchNorm2d\n",
    "# from torch.nn import ReLU\n",
    "# from torch.nn import MaxPool2d\n",
    "# from torch.nn import Sequential\n",
    "# from torch.nn import AdaptiveAvgPool2d\n",
    "# from torch.nn import Linear\n",
    "\n",
    "# # import the BasicBlock class\n",
    "# from torchvision.models import ResNet\n",
    "# from torchvision.models.resnet import BasicBlock\n",
    "\n",
    "# torch.serialization.add_safe_globals([Sequential])\n",
    "# torch.serialization.add_safe_globals([Linear])\n",
    "# torch.serialization.add_safe_globals([ReLU])\n",
    "# torch.serialization.add_safe_globals([set])\n",
    "# torch.serialization.add_safe_globals([Conv2d])\n",
    "# torch.serialization.add_safe_globals([BatchNorm2d])\n",
    "# torch.serialization.add_safe_globals([MaxPool2d])\n",
    "# torch.serialization.add_safe_globals([AdaptiveAvgPool2d])\n",
    "\n",
    "# torch.serialization.add_safe_globals([ResNet])\n",
    "# torch.serialization.add_safe_globals([BasicBlock])\n",
    "\n",
    "# loaded_model = torch.load('resnet_model.pth', weights_only=True, map_location='mps')\n",
    "\n",
    "# # evaluate the model\n",
    "# test_accuracy = evaluate(loaded_model, test_dataloader)\n",
    "# print(f'Test accuracy: {test_accuracy:.2f}%')"
   ]
  },
  {
   "cell_type": "markdown",
   "metadata": {},
   "source": [
    "This seems to be a good baseline model for this task.\n",
    "\n",
    "I'll be trying to improve the performance by including more preprocessed features which I have detailed in [this notebook](https://www.kaggle.com/code/nippani/preprocessing-audio-data-gtzan).\n",
    "\n",
    "If you liked this notebook, please upvote.\n",
    "\n",
    "Also, do let me know if there are any corrections/additions needed."
   ]
  }
 ],
 "metadata": {
  "kernelspec": {
   "display_name": "audio",
   "language": "python",
   "name": "python3"
  },
  "language_info": {
   "codemirror_mode": {
    "name": "ipython",
    "version": 3
   },
   "file_extension": ".py",
   "mimetype": "text/x-python",
   "name": "python",
   "nbconvert_exporter": "python",
   "pygments_lexer": "ipython3",
   "version": "3.12.8"
  }
 },
 "nbformat": 4,
 "nbformat_minor": 4
}
